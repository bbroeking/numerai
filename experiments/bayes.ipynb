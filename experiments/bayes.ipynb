{
 "cells": [
  {
   "cell_type": "code",
   "execution_count": 1,
   "id": "tribal-denver",
   "metadata": {},
   "outputs": [],
   "source": [
    "from bayes_opt import BayesianOptimization\n",
    "import xgboost\n",
    "\n",
    "from helpers.utils import *\n",
    "from helpers.xgboost_feval import *"
   ]
  },
  {
   "cell_type": "code",
   "execution_count": 2,
   "id": "hearing-local",
   "metadata": {},
   "outputs": [
    {
     "name": "stdout",
     "output_type": "stream",
     "text": [
      "You already have the newest data! Current round is: 261\n",
      "Loading the data\n"
     ]
    },
    {
     "name": "stderr",
     "output_type": "stream",
     "text": [
      "/opt/homebrew/Caskroom/miniforge/base/lib/python3.8/site-packages/pandas/core/indexing.py:1596: SettingWithCopyWarning: \n",
      "A value is trying to be set on a copy of a slice from a DataFrame.\n",
      "Try using .loc[row_indexer,col_indexer] = value instead\n",
      "\n",
      "See the caveats in the documentation: https://pandas.pydata.org/pandas-docs/stable/user_guide/indexing.html#returning-a-view-versus-a-copy\n",
      "  self.obj[key] = _infer_fill_value(value)\n",
      "/opt/homebrew/Caskroom/miniforge/base/lib/python3.8/site-packages/pandas/core/indexing.py:1743: SettingWithCopyWarning: \n",
      "A value is trying to be set on a copy of a slice from a DataFrame.\n",
      "Try using .loc[row_indexer,col_indexer] = value instead\n",
      "\n",
      "See the caveats in the documentation: https://pandas.pydata.org/pandas-docs/stable/user_guide/indexing.html#returning-a-view-versus-a-copy\n",
      "  isetter(ilocs[0], value)\n"
     ]
    }
   ],
   "source": [
    "DIR = \"/Users/brianbroeking/projects/numerai/data\"\n",
    "download_current_data(DIR)\n",
    "train_static, val_static, tournament_static = load_data(DIR, reduce_memory=True)\n",
    "features_list = generate_features_list(train_static)\n",
    "train, val, tournament = get_group_stats(train_static), get_group_stats(val_static), get_group_stats(tournament_static)"
   ]
  },
  {
   "cell_type": "code",
   "execution_count": 4,
   "id": "elegant-relative",
   "metadata": {},
   "outputs": [],
   "source": [
    "# ft_corr_list = ['feature_intelligence1', 'feature_constitution2', 'feature_charisma71', 'feature_wisdom45']\n",
    "# train, val, tournament = generate_polynomial_features(ft_corr_list, (train, val, tournament))"
   ]
  },
  {
   "cell_type": "code",
   "execution_count": 3,
   "id": "smoking-listing",
   "metadata": {},
   "outputs": [],
   "source": [
    "X_train, y_train = clean_for_xgboost(train)\n",
    "X_val, y_val = clean_for_xgboost(val)\n",
    "X_tournament, y_tournament = clean_for_xgboost(tournament)"
   ]
  },
  {
   "cell_type": "code",
   "execution_count": 4,
   "id": "czech-madrid",
   "metadata": {},
   "outputs": [],
   "source": [
    "X_train.columns = X_train.columns.astype(str)"
   ]
  },
  {
   "cell_type": "code",
   "execution_count": 5,
   "id": "associate-editing",
   "metadata": {},
   "outputs": [],
   "source": [
    "dtrain = xgb.DMatrix(X_train, y_train, feature_names=X_train.columns.values)"
   ]
  },
  {
   "cell_type": "code",
   "execution_count": 6,
   "id": "studied-pottery",
   "metadata": {},
   "outputs": [],
   "source": [
    "def correlation_score(preds, dtrain):\n",
    "    labels = dtrain.get_label()\n",
    "    return 'corr', np.corrcoef(labels, preds)[0,1]"
   ]
  },
  {
   "cell_type": "code",
   "execution_count": 7,
   "id": "invisible-yukon",
   "metadata": {},
   "outputs": [],
   "source": [
    "def hyp_xgb(max_depth, min_child_weight, gamma, l2, l1, learning_rate):\n",
    "    params = {\n",
    "      'objective': 'reg:squarederror',\n",
    "      'colsample_bytree': 0.1,\n",
    "      'n_estimators': 25,\n",
    "      'verbosity': 0\n",
    "    }\n",
    "    params['max_depth'] = int(round(max_depth))\n",
    "    params['min_child_weight'] = int(min_child_weight)\n",
    "    params['gamma'] = max(gamma, 0)\n",
    "    params['lambda'] = max(l2, 0)\n",
    "    params['alpha'] = max(l1, 0)\n",
    "    params['eta'] = max(learning_rate, 0)\n",
    "#     parmas['n_estimators'] = max(n_estimators, 0)\n",
    "    \n",
    "    scores = xgboost.cv(params,\n",
    "                    dtrain,\n",
    "                    num_boost_round=10,\n",
    "                    verbose_eval=False,\n",
    "                    early_stopping_rounds=5,\n",
    "                    feval=correlation_score,\n",
    "                    maximize=True,\n",
    "                    nfold=5)\n",
    "    return  scores['test-corr-mean'].iloc[-1]"
   ]
  },
  {
   "cell_type": "code",
   "execution_count": 8,
   "id": "random-ladder",
   "metadata": {},
   "outputs": [],
   "source": [
    "pds = {\n",
    "  'max_depth': (4, 10),\n",
    "  'min_child_weight':(14, 20),\n",
    "  'gamma': (0, 1),\n",
    "  'l2': (1, 10),\n",
    "  'l1': (0, 10),\n",
    "  'learning_rate': (0.001, 0.3),\n",
    "}"
   ]
  },
  {
   "cell_type": "code",
   "execution_count": 9,
   "id": "parallel-seventh",
   "metadata": {},
   "outputs": [
    {
     "ename": "NameError",
     "evalue": "name 'uniform' is not defined",
     "output_type": "error",
     "traceback": [
      "\u001b[0;31m---------------------------------------------------------------------------\u001b[0m",
      "\u001b[0;31mNameError\u001b[0m                                 Traceback (most recent call last)",
      "\u001b[0;32m<ipython-input-9-1e15cc223075>\u001b[0m in \u001b[0;36m<module>\u001b[0;34m\u001b[0m\n\u001b[1;32m      2\u001b[0m     \u001b[0;34m'max_depth'\u001b[0m\u001b[0;34m:\u001b[0m \u001b[0;34m[\u001b[0m\u001b[0;36m1\u001b[0m\u001b[0;34m,\u001b[0m \u001b[0;36m2\u001b[0m\u001b[0;34m,\u001b[0m \u001b[0;36m3\u001b[0m\u001b[0;34m,\u001b[0m \u001b[0;36m4\u001b[0m\u001b[0;34m,\u001b[0m \u001b[0;36m5\u001b[0m\u001b[0;34m,\u001b[0m \u001b[0;36m6\u001b[0m\u001b[0;34m,\u001b[0m \u001b[0;36m7\u001b[0m\u001b[0;34m,\u001b[0m \u001b[0;36m8\u001b[0m\u001b[0;34m,\u001b[0m \u001b[0;36m9\u001b[0m\u001b[0;34m,\u001b[0m \u001b[0;36m10\u001b[0m\u001b[0;34m]\u001b[0m\u001b[0;34m,\u001b[0m\u001b[0;34m\u001b[0m\u001b[0;34m\u001b[0m\u001b[0m\n\u001b[1;32m      3\u001b[0m     \u001b[0;34m'gamma'\u001b[0m\u001b[0;34m:\u001b[0m \u001b[0;34m[\u001b[0m\u001b[0;36m0\u001b[0m\u001b[0;34m,\u001b[0m \u001b[0;36m0.5\u001b[0m\u001b[0;34m,\u001b[0m \u001b[0;36m1\u001b[0m\u001b[0;34m]\u001b[0m\u001b[0;34m,\u001b[0m\u001b[0;34m\u001b[0m\u001b[0;34m\u001b[0m\u001b[0m\n\u001b[0;32m----> 4\u001b[0;31m     \u001b[0;34m'learning_rate'\u001b[0m\u001b[0;34m:\u001b[0m \u001b[0muniform\u001b[0m\u001b[0;34m(\u001b[0m\u001b[0;34m)\u001b[0m\u001b[0;34m,\u001b[0m \u001b[0;31m# gaussian distribution\u001b[0m\u001b[0;34m\u001b[0m\u001b[0;34m\u001b[0m\u001b[0m\n\u001b[0m\u001b[1;32m      5\u001b[0m     \u001b[0;34m'subsample'\u001b[0m\u001b[0;34m:\u001b[0m \u001b[0muniform\u001b[0m\u001b[0;34m(\u001b[0m\u001b[0;34m)\u001b[0m\u001b[0;34m,\u001b[0m \u001b[0;31m# gaussian distribution\u001b[0m\u001b[0;34m\u001b[0m\u001b[0;34m\u001b[0m\u001b[0m\n\u001b[1;32m      6\u001b[0m     \u001b[0;34m'colsample_bytree'\u001b[0m\u001b[0;34m:\u001b[0m \u001b[0muniform\u001b[0m\u001b[0;34m(\u001b[0m\u001b[0;34m)\u001b[0m \u001b[0;31m# gaussian distribution\u001b[0m\u001b[0;34m\u001b[0m\u001b[0;34m\u001b[0m\u001b[0m\n",
      "\u001b[0;31mNameError\u001b[0m: name 'uniform' is not defined"
     ]
    }
   ],
   "source": [
    "params_dist_grid = {\n",
    "    'max_depth': [1, 2, 3, 4, 5, 6, 7, 8, 9, 10],\n",
    "    'gamma': [0, 0.5, 1],\n",
    "    'learning_rate': uniform(), # gaussian distribution\n",
    "    'subsample': uniform(), # gaussian distribution\n",
    "    'colsample_bytree': uniform() # gaussian distribution\n",
    "}"
   ]
  },
  {
   "cell_type": "code",
   "execution_count": 47,
   "id": "brown-manchester",
   "metadata": {},
   "outputs": [
    {
     "name": "stdout",
     "output_type": "stream",
     "text": [
      "|   iter    |  target   |   gamma   |    l1     |    l2     | learni... | max_depth | min_ch... |\n",
      "-------------------------------------------------------------------------------------------------\n",
      "| \u001b[0m 1       \u001b[0m | \u001b[0m 0.03719 \u001b[0m | \u001b[0m 0.5164  \u001b[0m | \u001b[0m 5.707   \u001b[0m | \u001b[0m 1.256   \u001b[0m | \u001b[0m 0.05228 \u001b[0m | \u001b[0m 8.112   \u001b[0m | \u001b[0m 19.0    \u001b[0m |\n",
      "| \u001b[95m 2       \u001b[0m | \u001b[95m 0.03899 \u001b[0m | \u001b[95m 0.307   \u001b[0m | \u001b[95m 8.936   \u001b[0m | \u001b[95m 7.494   \u001b[0m | \u001b[95m 0.05779 \u001b[0m | \u001b[95m 7.325   \u001b[0m | \u001b[95m 16.11   \u001b[0m |\n",
      "| \u001b[0m 3       \u001b[0m | \u001b[0m 0.0383  \u001b[0m | \u001b[0m 0.1819  \u001b[0m | \u001b[0m 7.856   \u001b[0m | \u001b[0m 9.689   \u001b[0m | \u001b[0m 0.07047 \u001b[0m | \u001b[0m 4.501   \u001b[0m | \u001b[0m 17.62   \u001b[0m |\n",
      "| \u001b[0m 4       \u001b[0m | \u001b[0m 0.03555 \u001b[0m | \u001b[0m 0.729   \u001b[0m | \u001b[0m 2.762   \u001b[0m | \u001b[0m 7.168   \u001b[0m | \u001b[0m 0.1558  \u001b[0m | \u001b[0m 4.291   \u001b[0m | \u001b[0m 14.83   \u001b[0m |\n",
      "| \u001b[0m 5       \u001b[0m | \u001b[0m 0.03596 \u001b[0m | \u001b[0m 0.187   \u001b[0m | \u001b[0m 9.943   \u001b[0m | \u001b[0m 5.686   \u001b[0m | \u001b[0m 0.1741  \u001b[0m | \u001b[0m 8.409   \u001b[0m | \u001b[0m 17.25   \u001b[0m |\n",
      "| \u001b[0m 6       \u001b[0m | \u001b[0m 0.03557 \u001b[0m | \u001b[0m 0.6588  \u001b[0m | \u001b[0m 2.45    \u001b[0m | \u001b[0m 5.531   \u001b[0m | \u001b[0m 0.1521  \u001b[0m | \u001b[0m 8.685   \u001b[0m | \u001b[0m 19.65   \u001b[0m |\n",
      "| \u001b[0m 7       \u001b[0m | \u001b[0m 0.03529 \u001b[0m | \u001b[0m 0.954   \u001b[0m | \u001b[0m 1.381   \u001b[0m | \u001b[0m 2.417   \u001b[0m | \u001b[0m 0.2017  \u001b[0m | \u001b[0m 5.418   \u001b[0m | \u001b[0m 15.28   \u001b[0m |\n",
      "| \u001b[0m 8       \u001b[0m | \u001b[0m 0.03598 \u001b[0m | \u001b[0m 0.5711  \u001b[0m | \u001b[0m 4.591   \u001b[0m | \u001b[0m 1.071   \u001b[0m | \u001b[0m 0.1913  \u001b[0m | \u001b[0m 9.242   \u001b[0m | \u001b[0m 14.12   \u001b[0m |\n",
      "| \u001b[0m 9       \u001b[0m | \u001b[0m 0.03731 \u001b[0m | \u001b[0m 0.3855  \u001b[0m | \u001b[0m 9.292   \u001b[0m | \u001b[0m 9.014   \u001b[0m | \u001b[0m 0.1299  \u001b[0m | \u001b[0m 7.321   \u001b[0m | \u001b[0m 19.88   \u001b[0m |\n",
      "| \u001b[0m 10      \u001b[0m | \u001b[0m 0.03595 \u001b[0m | \u001b[0m 0.1298  \u001b[0m | \u001b[0m 7.802   \u001b[0m | \u001b[0m 9.993   \u001b[0m | \u001b[0m 0.01201 \u001b[0m | \u001b[0m 4.284   \u001b[0m | \u001b[0m 17.38   \u001b[0m |\n",
      "| \u001b[0m 11      \u001b[0m | \u001b[0m 0.03184 \u001b[0m | \u001b[0m 0.06364 \u001b[0m | \u001b[0m 0.256   \u001b[0m | \u001b[0m 9.087   \u001b[0m | \u001b[0m 0.1736  \u001b[0m | \u001b[0m 6.538   \u001b[0m | \u001b[0m 19.0    \u001b[0m |\n",
      "| \u001b[0m 12      \u001b[0m | \u001b[0m 0.03836 \u001b[0m | \u001b[0m 0.2013  \u001b[0m | \u001b[0m 7.88    \u001b[0m | \u001b[0m 9.684   \u001b[0m | \u001b[0m 0.06008 \u001b[0m | \u001b[0m 4.56    \u001b[0m | \u001b[0m 17.74   \u001b[0m |\n",
      "| \u001b[0m 13      \u001b[0m | \u001b[0m 0.03537 \u001b[0m | \u001b[0m 0.1989  \u001b[0m | \u001b[0m 8.816   \u001b[0m | \u001b[0m 7.506   \u001b[0m | \u001b[0m 0.2279  \u001b[0m | \u001b[0m 7.9     \u001b[0m | \u001b[0m 15.71   \u001b[0m |\n",
      "| \u001b[0m 14      \u001b[0m | \u001b[0m 0.03805 \u001b[0m | \u001b[0m 0.3221  \u001b[0m | \u001b[0m 9.431   \u001b[0m | \u001b[0m 7.31    \u001b[0m | \u001b[0m 0.2836  \u001b[0m | \u001b[0m 7.112   \u001b[0m | \u001b[0m 16.18   \u001b[0m |\n",
      "| \u001b[0m 15      \u001b[0m | \u001b[0m 0.03447 \u001b[0m | \u001b[0m 0.9816  \u001b[0m | \u001b[0m 6.415   \u001b[0m | \u001b[0m 4.934   \u001b[0m | \u001b[0m 0.1029  \u001b[0m | \u001b[0m 9.933   \u001b[0m | \u001b[0m 14.7    \u001b[0m |\n",
      "| \u001b[0m 16      \u001b[0m | \u001b[0m 0.03485 \u001b[0m | \u001b[0m 0.1384  \u001b[0m | \u001b[0m 8.344   \u001b[0m | \u001b[0m 3.857   \u001b[0m | \u001b[0m 0.2094  \u001b[0m | \u001b[0m 8.231   \u001b[0m | \u001b[0m 15.27   \u001b[0m |\n",
      "| \u001b[0m 17      \u001b[0m | \u001b[0m 0.03589 \u001b[0m | \u001b[0m 0.8569  \u001b[0m | \u001b[0m 0.2325  \u001b[0m | \u001b[0m 9.65    \u001b[0m | \u001b[0m 0.182   \u001b[0m | \u001b[0m 5.664   \u001b[0m | \u001b[0m 14.33   \u001b[0m |\n",
      "| \u001b[0m 18      \u001b[0m | \u001b[0m 0.03472 \u001b[0m | \u001b[0m 0.8852  \u001b[0m | \u001b[0m 8.549   \u001b[0m | \u001b[0m 6.166   \u001b[0m | \u001b[0m 0.244   \u001b[0m | \u001b[0m 7.444   \u001b[0m | \u001b[0m 14.09   \u001b[0m |\n",
      "| \u001b[0m 19      \u001b[0m | \u001b[0m 0.03607 \u001b[0m | \u001b[0m 0.1924  \u001b[0m | \u001b[0m 8.294   \u001b[0m | \u001b[0m 1.083   \u001b[0m | \u001b[0m 0.04966 \u001b[0m | \u001b[0m 8.86    \u001b[0m | \u001b[0m 17.11   \u001b[0m |\n",
      "| \u001b[0m 20      \u001b[0m | \u001b[0m 0.037   \u001b[0m | \u001b[0m 0.3757  \u001b[0m | \u001b[0m 8.969   \u001b[0m | \u001b[0m 7.504   \u001b[0m | \u001b[0m 0.001   \u001b[0m | \u001b[0m 6.969   \u001b[0m | \u001b[0m 16.37   \u001b[0m |\n",
      "=================================================================================================\n"
     ]
    }
   ],
   "source": [
    "# Surrogate model\n",
    "optimizer = BayesianOptimization(hyp_xgb, pds, random_state=101)\n",
    "                                  \n",
    "# Optimize\n",
    "optimizer.maximize(init_points=5, n_iter=15)"
   ]
  },
  {
   "cell_type": "code",
   "execution_count": null,
   "id": "technological-therapist",
   "metadata": {},
   "outputs": [],
   "source": [
    "# Surrogate model\n",
    "optimizer = BayesianOptimization(hyp_xgb, pds)\n",
    "                                  \n",
    "# Optimize\n",
    "optimizer.maximize(init_points=5, n_iter=15)"
   ]
  },
  {
   "cell_type": "code",
   "execution_count": 30,
   "id": "mediterranean-alexandria",
   "metadata": {},
   "outputs": [
    {
     "data": {
      "text/plain": [
       "{'target': 0.0342492,\n",
       " 'params': {'colsample_bytree': 0.33649076554038165,\n",
       "  'gamma': 0.782158881148831,\n",
       "  'max_depth': 5.847339640297226,\n",
       "  'min_child_weight': 19.430576015452555,\n",
       "  'subsample': 1.0}}"
      ]
     },
     "execution_count": 30,
     "metadata": {},
     "output_type": "execute_result"
    }
   ],
   "source": [
    "optimizer.max"
   ]
  },
  {
   "cell_type": "code",
   "execution_count": 16,
   "id": "double-attempt",
   "metadata": {},
   "outputs": [
    {
     "name": "stdout",
     "output_type": "stream",
     "text": [
      "[0]\ttrain-logloss:0.69319+0.00001\ttrain-corr:-0.03479+0.00153\ttest-logloss:0.69319+0.00000\ttest-corr:-0.01719+0.00412\n",
      "[1]\ttrain-logloss:0.69316+0.00001\ttrain-corr:-0.04199+0.00136\ttest-logloss:0.69319+0.00000\ttest-corr:-0.02024+0.00427\n",
      "[2]\ttrain-logloss:0.69314+0.00000\ttrain-corr:-0.04790+0.00111\ttest-logloss:0.69318+0.00000\ttest-corr:-0.02343+0.00262\n",
      "[3]\ttrain-logloss:0.69313+0.00000\ttrain-corr:-0.05212+0.00129\ttest-logloss:0.69317+0.00000\ttest-corr:-0.02589+0.00211\n",
      "[4]\ttrain-logloss:0.69312+0.00000\ttrain-corr:-0.05606+0.00093\ttest-logloss:0.69317+0.00000\ttest-corr:-0.02686+0.00246\n"
     ]
    }
   ],
   "source": [
    "params = {\n",
    "    'eta': 0.05,\n",
    "    'objective': 'reg:squarederror',\n",
    "    'verbosity': 0,\n",
    "    'max_depth': 5,\n",
    "    'min_child_weight': 14,\n",
    "    'gamma': 0,\n",
    "    'colsample_bytree': 0.1,\n",
    "    \"subsample\": 0.5\n",
    "}\n",
    "scores2 = xgboost.cv(params,\n",
    "                dtrain,\n",
    "                num_boost_round=1000,\n",
    "                verbose_eval=True,\n",
    "                early_stopping_rounds=5,\n",
    "                feval=correlation_score,\n",
    "                maximize=True,\n",
    "                nfold=5)"
   ]
  },
  {
   "cell_type": "code",
   "execution_count": 3,
   "id": "controlling-skill",
   "metadata": {},
   "outputs": [],
   "source": [
    "from sklearn.datasets import load_boston\n",
    "from sklearn.metrics import r2_score\n",
    "boston=load_boston()\n",
    "X =pd.DataFrame(boston.data,columns=boston.feature_names)\n",
    "y = boston.target"
   ]
  },
  {
   "cell_type": "code",
   "execution_count": 4,
   "id": "liquid-sullivan",
   "metadata": {},
   "outputs": [
    {
     "data": {
      "text/html": [
       "<div>\n",
       "<style scoped>\n",
       "    .dataframe tbody tr th:only-of-type {\n",
       "        vertical-align: middle;\n",
       "    }\n",
       "\n",
       "    .dataframe tbody tr th {\n",
       "        vertical-align: top;\n",
       "    }\n",
       "\n",
       "    .dataframe thead th {\n",
       "        text-align: right;\n",
       "    }\n",
       "</style>\n",
       "<table border=\"1\" class=\"dataframe\">\n",
       "  <thead>\n",
       "    <tr style=\"text-align: right;\">\n",
       "      <th></th>\n",
       "      <th>CRIM</th>\n",
       "      <th>ZN</th>\n",
       "      <th>INDUS</th>\n",
       "      <th>CHAS</th>\n",
       "      <th>NOX</th>\n",
       "      <th>RM</th>\n",
       "      <th>AGE</th>\n",
       "      <th>DIS</th>\n",
       "      <th>RAD</th>\n",
       "      <th>TAX</th>\n",
       "      <th>PTRATIO</th>\n",
       "      <th>B</th>\n",
       "      <th>LSTAT</th>\n",
       "      <th>Price</th>\n",
       "    </tr>\n",
       "  </thead>\n",
       "  <tbody>\n",
       "    <tr>\n",
       "      <th>0</th>\n",
       "      <td>0.00632</td>\n",
       "      <td>18.0</td>\n",
       "      <td>2.31</td>\n",
       "      <td>0.0</td>\n",
       "      <td>0.538</td>\n",
       "      <td>6.575</td>\n",
       "      <td>65.2</td>\n",
       "      <td>4.0900</td>\n",
       "      <td>1.0</td>\n",
       "      <td>296.0</td>\n",
       "      <td>15.3</td>\n",
       "      <td>396.90</td>\n",
       "      <td>4.98</td>\n",
       "      <td>24.0</td>\n",
       "    </tr>\n",
       "    <tr>\n",
       "      <th>1</th>\n",
       "      <td>0.02731</td>\n",
       "      <td>0.0</td>\n",
       "      <td>7.07</td>\n",
       "      <td>0.0</td>\n",
       "      <td>0.469</td>\n",
       "      <td>6.421</td>\n",
       "      <td>78.9</td>\n",
       "      <td>4.9671</td>\n",
       "      <td>2.0</td>\n",
       "      <td>242.0</td>\n",
       "      <td>17.8</td>\n",
       "      <td>396.90</td>\n",
       "      <td>9.14</td>\n",
       "      <td>21.6</td>\n",
       "    </tr>\n",
       "    <tr>\n",
       "      <th>2</th>\n",
       "      <td>0.02729</td>\n",
       "      <td>0.0</td>\n",
       "      <td>7.07</td>\n",
       "      <td>0.0</td>\n",
       "      <td>0.469</td>\n",
       "      <td>7.185</td>\n",
       "      <td>61.1</td>\n",
       "      <td>4.9671</td>\n",
       "      <td>2.0</td>\n",
       "      <td>242.0</td>\n",
       "      <td>17.8</td>\n",
       "      <td>392.83</td>\n",
       "      <td>4.03</td>\n",
       "      <td>34.7</td>\n",
       "    </tr>\n",
       "    <tr>\n",
       "      <th>3</th>\n",
       "      <td>0.03237</td>\n",
       "      <td>0.0</td>\n",
       "      <td>2.18</td>\n",
       "      <td>0.0</td>\n",
       "      <td>0.458</td>\n",
       "      <td>6.998</td>\n",
       "      <td>45.8</td>\n",
       "      <td>6.0622</td>\n",
       "      <td>3.0</td>\n",
       "      <td>222.0</td>\n",
       "      <td>18.7</td>\n",
       "      <td>394.63</td>\n",
       "      <td>2.94</td>\n",
       "      <td>33.4</td>\n",
       "    </tr>\n",
       "    <tr>\n",
       "      <th>4</th>\n",
       "      <td>0.06905</td>\n",
       "      <td>0.0</td>\n",
       "      <td>2.18</td>\n",
       "      <td>0.0</td>\n",
       "      <td>0.458</td>\n",
       "      <td>7.147</td>\n",
       "      <td>54.2</td>\n",
       "      <td>6.0622</td>\n",
       "      <td>3.0</td>\n",
       "      <td>222.0</td>\n",
       "      <td>18.7</td>\n",
       "      <td>396.90</td>\n",
       "      <td>5.33</td>\n",
       "      <td>36.2</td>\n",
       "    </tr>\n",
       "  </tbody>\n",
       "</table>\n",
       "</div>"
      ],
      "text/plain": [
       "      CRIM    ZN  INDUS  CHAS    NOX     RM   AGE     DIS  RAD    TAX  \\\n",
       "0  0.00632  18.0   2.31   0.0  0.538  6.575  65.2  4.0900  1.0  296.0   \n",
       "1  0.02731   0.0   7.07   0.0  0.469  6.421  78.9  4.9671  2.0  242.0   \n",
       "2  0.02729   0.0   7.07   0.0  0.469  7.185  61.1  4.9671  2.0  242.0   \n",
       "3  0.03237   0.0   2.18   0.0  0.458  6.998  45.8  6.0622  3.0  222.0   \n",
       "4  0.06905   0.0   2.18   0.0  0.458  7.147  54.2  6.0622  3.0  222.0   \n",
       "\n",
       "   PTRATIO       B  LSTAT  Price  \n",
       "0     15.3  396.90   4.98   24.0  \n",
       "1     17.8  396.90   9.14   21.6  \n",
       "2     17.8  392.83   4.03   34.7  \n",
       "3     18.7  394.63   2.94   33.4  \n",
       "4     18.7  396.90   5.33   36.2  "
      ]
     },
     "execution_count": 4,
     "metadata": {},
     "output_type": "execute_result"
    }
   ],
   "source": [
    "df= X\n",
    "df['Price'] = y\n",
    "df.head()"
   ]
  },
  {
   "cell_type": "code",
   "execution_count": 5,
   "id": "brazilian-secondary",
   "metadata": {},
   "outputs": [],
   "source": [
    "dtrain = xgb.DMatrix(X, y, feature_names=X.columns.values)\n",
    "def xgb_r2(preds, dtrain):\n",
    "    labels = dtrain.get_label()\n",
    "    return 'r2', r2_score(preds, labels)"
   ]
  },
  {
   "cell_type": "code",
   "execution_count": 11,
   "id": "horizontal-blink",
   "metadata": {},
   "outputs": [],
   "source": [
    "def hyp_xgb(max_depth, subsample, colsample_bytree,min_child_weight, gamma ):\n",
    "    params = {\n",
    "#     'n_estimators': 300,\n",
    "    'eta': 0.05,\n",
    "    'objective': 'reg:squarederror',\n",
    "    'eval_metric':'mae',\n",
    "#     'silent': 1\n",
    "     }\n",
    "    params['max_depth'] = int(round(max_depth))\n",
    "    params['subsample'] = max(min(subsample, 1), 0)\n",
    "    params['colsample_bytree'] = max(min(colsample_bytree, 1), 0)\n",
    "    params['min_child_weight'] = int(min_child_weight)\n",
    "    params['gamma'] = max(gamma, 0)\n",
    "    scores = xgb.cv(params,\n",
    "                    dtrain,\n",
    "                    num_boost_round=1000,\n",
    "                    verbose_eval=False,\n",
    "                    early_stopping_rounds=5,\n",
    "                    feval=xgb_r2,\n",
    "                    maximize=True,\n",
    "                    nfold=5)\n",
    "    return  scores['test-r2-mean'].iloc[-1]"
   ]
  },
  {
   "cell_type": "code",
   "execution_count": 12,
   "id": "lightweight-budget",
   "metadata": {},
   "outputs": [],
   "source": [
    "pds ={\n",
    "  'min_child_weight':(14, 20),\n",
    "  'gamma':(0, 5),\n",
    "  'subsample':(0.5, 1),\n",
    "  'colsample_bytree':(0.1, 1),\n",
    "  'max_depth': (6, 10)\n",
    "}"
   ]
  },
  {
   "cell_type": "code",
   "execution_count": 13,
   "id": "expensive-password",
   "metadata": {},
   "outputs": [
    {
     "name": "stdout",
     "output_type": "stream",
     "text": [
      "|   iter    |  target   | colsam... |   gamma   | max_depth | min_ch... | subsample |\n",
      "-------------------------------------------------------------------------------------\n",
      "| \u001b[0m 1       \u001b[0m | \u001b[0m 0.9735  \u001b[0m | \u001b[0m 0.4889  \u001b[0m | \u001b[0m 0.8711  \u001b[0m | \u001b[0m 6.684   \u001b[0m | \u001b[0m 18.97   \u001b[0m | \u001b[0m 0.7936  \u001b[0m |\n",
      "| \u001b[95m 2       \u001b[0m | \u001b[95m 0.9812  \u001b[0m | \u001b[95m 0.5134  \u001b[0m | \u001b[95m 4.113   \u001b[0m | \u001b[95m 9.286   \u001b[0m | \u001b[95m 15.84   \u001b[0m | \u001b[95m 0.6004  \u001b[0m |\n",
      "| \u001b[0m 3       \u001b[0m | \u001b[0m 0.9746  \u001b[0m | \u001b[0m 0.4629  \u001b[0m | \u001b[0m 4.739   \u001b[0m | \u001b[0m 8.71    \u001b[0m | \u001b[0m 17.65   \u001b[0m | \u001b[0m 0.8362  \u001b[0m |\n",
      "| \u001b[0m 4       \u001b[0m | \u001b[0m 0.8439  \u001b[0m | \u001b[0m 0.1072  \u001b[0m | \u001b[0m 1.683   \u001b[0m | \u001b[0m 7.429   \u001b[0m | \u001b[0m 16.92   \u001b[0m | \u001b[0m 0.9391  \u001b[0m |\n",
      "| \u001b[95m 5       \u001b[0m | \u001b[95m 0.9901  \u001b[0m | \u001b[95m 0.7794  \u001b[0m | \u001b[95m 3.152   \u001b[0m | \u001b[95m 7.506   \u001b[0m | \u001b[95m 17.54   \u001b[0m | \u001b[95m 0.8687  \u001b[0m |\n",
      "| \u001b[95m 6       \u001b[0m | \u001b[95m 0.9952  \u001b[0m | \u001b[95m 0.8073  \u001b[0m | \u001b[95m 0.3979  \u001b[0m | \u001b[95m 9.758   \u001b[0m | \u001b[95m 16.49   \u001b[0m | \u001b[95m 0.9983  \u001b[0m |\n",
      "| \u001b[0m 7       \u001b[0m | \u001b[0m 0.978   \u001b[0m | \u001b[0m 0.5258  \u001b[0m | \u001b[0m 4.053   \u001b[0m | \u001b[0m 9.223   \u001b[0m | \u001b[0m 15.89   \u001b[0m | \u001b[0m 0.5299  \u001b[0m |\n",
      "| \u001b[95m 8       \u001b[0m | \u001b[95m 0.9958  \u001b[0m | \u001b[95m 1.0     \u001b[0m | \u001b[95m 4.152   \u001b[0m | \u001b[95m 7.229   \u001b[0m | \u001b[95m 18.17   \u001b[0m | \u001b[95m 0.8302  \u001b[0m |\n",
      "| \u001b[0m 9       \u001b[0m | \u001b[0m 0.9944  \u001b[0m | \u001b[0m 1.0     \u001b[0m | \u001b[0m 3.341   \u001b[0m | \u001b[0m 8.145   \u001b[0m | \u001b[0m 18.91   \u001b[0m | \u001b[0m 0.7549  \u001b[0m |\n",
      "| \u001b[0m 10      \u001b[0m | \u001b[0m 0.9958  \u001b[0m | \u001b[0m 1.0     \u001b[0m | \u001b[0m 3.193   \u001b[0m | \u001b[0m 6.538   \u001b[0m | \u001b[0m 19.28   \u001b[0m | \u001b[0m 1.0     \u001b[0m |\n",
      "| \u001b[0m 11      \u001b[0m | \u001b[0m 0.8065  \u001b[0m | \u001b[0m 0.1     \u001b[0m | \u001b[0m 4.263   \u001b[0m | \u001b[0m 7.221   \u001b[0m | \u001b[0m 19.83   \u001b[0m | \u001b[0m 0.5     \u001b[0m |\n",
      "| \u001b[0m 12      \u001b[0m | \u001b[0m 0.9934  \u001b[0m | \u001b[0m 0.8756  \u001b[0m | \u001b[0m 3.421   \u001b[0m | \u001b[0m 6.139   \u001b[0m | \u001b[0m 18.04   \u001b[0m | \u001b[0m 0.948   \u001b[0m |\n",
      "| \u001b[95m 13      \u001b[0m | \u001b[95m 0.9984  \u001b[0m | \u001b[95m 1.0     \u001b[0m | \u001b[95m 4.435   \u001b[0m | \u001b[95m 6.942   \u001b[0m | \u001b[95m 16.76   \u001b[0m | \u001b[95m 1.0     \u001b[0m |\n",
      "| \u001b[0m 14      \u001b[0m | \u001b[0m 0.9973  \u001b[0m | \u001b[0m 1.0     \u001b[0m | \u001b[0m 3.064   \u001b[0m | \u001b[0m 9.579   \u001b[0m | \u001b[0m 18.22   \u001b[0m | \u001b[0m 1.0     \u001b[0m |\n",
      "| \u001b[0m 15      \u001b[0m | \u001b[0m 0.9959  \u001b[0m | \u001b[0m 1.0     \u001b[0m | \u001b[0m 1.917   \u001b[0m | \u001b[0m 9.129   \u001b[0m | \u001b[0m 19.42   \u001b[0m | \u001b[0m 1.0     \u001b[0m |\n",
      "| \u001b[0m 16      \u001b[0m | \u001b[0m 0.9977  \u001b[0m | \u001b[0m 1.0     \u001b[0m | \u001b[0m 0.9684  \u001b[0m | \u001b[0m 10.0    \u001b[0m | \u001b[0m 18.2    \u001b[0m | \u001b[0m 0.9669  \u001b[0m |\n",
      "| \u001b[0m 17      \u001b[0m | \u001b[0m 0.9732  \u001b[0m | \u001b[0m 1.0     \u001b[0m | \u001b[0m 0.1825  \u001b[0m | \u001b[0m 10.0    \u001b[0m | \u001b[0m 19.88   \u001b[0m | \u001b[0m 0.5     \u001b[0m |\n",
      "| \u001b[0m 18      \u001b[0m | \u001b[0m 0.8107  \u001b[0m | \u001b[0m 0.1     \u001b[0m | \u001b[0m 2.14    \u001b[0m | \u001b[0m 10.0    \u001b[0m | \u001b[0m 18.82   \u001b[0m | \u001b[0m 0.5     \u001b[0m |\n",
      "| \u001b[0m 19      \u001b[0m | \u001b[0m 0.9975  \u001b[0m | \u001b[0m 1.0     \u001b[0m | \u001b[0m 3.53    \u001b[0m | \u001b[0m 8.577   \u001b[0m | \u001b[0m 17.91   \u001b[0m | \u001b[0m 1.0     \u001b[0m |\n",
      "| \u001b[0m 20      \u001b[0m | \u001b[0m 0.995   \u001b[0m | \u001b[0m 0.9729  \u001b[0m | \u001b[0m 2.331   \u001b[0m | \u001b[0m 7.387   \u001b[0m | \u001b[0m 18.91   \u001b[0m | \u001b[0m 0.9843  \u001b[0m |\n",
      "=====================================================================================\n"
     ]
    }
   ],
   "source": [
    "\n",
    "# Surrogate model\n",
    "optimizer = BayesianOptimization(hyp_xgb, pds, random_state=103)\n",
    "                                  \n",
    "# Optimize\n",
    "optimizer.maximize(init_points=5, n_iter=15)"
   ]
  },
  {
   "cell_type": "code",
   "execution_count": 14,
   "id": "remarkable-celebrity",
   "metadata": {},
   "outputs": [
    {
     "data": {
      "text/plain": [
       "{'target': 0.9984082000000001,\n",
       " 'params': {'colsample_bytree': 1.0,\n",
       "  'gamma': 4.435090227600583,\n",
       "  'max_depth': 6.942298484826218,\n",
       "  'min_child_weight': 16.757439116701462,\n",
       "  'subsample': 1.0}}"
      ]
     },
     "execution_count": 14,
     "metadata": {},
     "output_type": "execute_result"
    }
   ],
   "source": [
    "optimizer.max\n"
   ]
  },
  {
   "cell_type": "code",
   "execution_count": null,
   "id": "demonstrated-religion",
   "metadata": {},
   "outputs": [],
   "source": []
  }
 ],
 "metadata": {
  "kernelspec": {
   "display_name": "base",
   "language": "python",
   "name": "base"
  },
  "language_info": {
   "codemirror_mode": {
    "name": "ipython",
    "version": 3
   },
   "file_extension": ".py",
   "mimetype": "text/x-python",
   "name": "python",
   "nbconvert_exporter": "python",
   "pygments_lexer": "ipython3",
   "version": "3.8.6"
  }
 },
 "nbformat": 4,
 "nbformat_minor": 5
}
